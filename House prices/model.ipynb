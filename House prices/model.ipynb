{
 "cells": [
  {
   "cell_type": "code",
   "execution_count": 52,
   "metadata": {},
   "outputs": [],
   "source": [
    "import pandas as pd\n",
    "import numpy as np\n",
    "from sklearn.linear_model import LinearRegression\n",
    "from sklearn.model_selection import train_test_split\n",
    "from sklearn.metrics import mean_squared_error"
   ]
  },
  {
   "cell_type": "code",
   "execution_count": 53,
   "metadata": {
    "scrolled": true
   },
   "outputs": [],
   "source": [
    "# reordering data\n",
    "df_train = pd.read_csv('./Data/cleaned_train_dataset.csv')\n",
    "y_train = df_train['SalePrice']\n",
    "df_train = df_train.drop('SalePrice', axis = 1)"
   ]
  },
  {
   "cell_type": "raw",
   "metadata": {},
   "source": [
    "len(df_train.columns)"
   ]
  },
  {
   "cell_type": "code",
   "execution_count": 54,
   "metadata": {},
   "outputs": [],
   "source": [
    "df_test = pd.read_csv('./Data/cleaned_test_dataset.csv')"
   ]
  },
  {
   "cell_type": "raw",
   "metadata": {},
   "source": [
    "len(df_test.columns)"
   ]
  },
  {
   "cell_type": "raw",
   "metadata": {},
   "source": [
    "# splitting data\n",
    "x_train, x_test, y_train, y_test = train_test_split(data, y_column, test_size = 0.3, random_state = 0)"
   ]
  },
  {
   "cell_type": "code",
   "execution_count": 55,
   "metadata": {},
   "outputs": [],
   "source": [
    "linear_regression = LinearRegression()"
   ]
  },
  {
   "cell_type": "code",
   "execution_count": 56,
   "metadata": {},
   "outputs": [],
   "source": [
    "# score = linear_regression.score(df_test, y_test)\n",
    "# print(score)"
   ]
  },
  {
   "cell_type": "code",
   "execution_count": 57,
   "metadata": {},
   "outputs": [
    {
     "name": "stdout",
     "output_type": "stream",
     "text": [
      "[11.67472852 11.96933013 12.12343092 ... 12.02135013 11.66861951\n",
      " 12.33587893]\n"
     ]
    }
   ],
   "source": [
    "linear_regression.fit(df_train, y_train)\n",
    "prediction = linear_regression.predict(df_test)\n",
    "print(prediction)"
   ]
  },
  {
   "cell_type": "raw",
   "metadata": {},
   "source": [
    "rsme_train = mean_squared_error(linear_regression.predict(x_train), y_train)\n",
    "rsme_test = mean_squared_error(linear_regression.predict(x_test), y_test)\n",
    "print('RMSE on Training set : ', rsme_train)\n",
    "print('RMSE on Test set : ', rsme_test)"
   ]
  },
  {
   "cell_type": "code",
   "execution_count": 58,
   "metadata": {},
   "outputs": [],
   "source": [
    "evaluation_result = np.concatenate([np.array(df_test['Id']).reshape(-1, 1), prediction.reshape(-1, 1)], axis = 1)\n",
    "evaluation_result = pd.DataFrame(evaluation_result, index = None, columns = ['Id', 'SalePrice'])\n",
    "evaluation_result = evaluation_result.astype({'Id': int})\n",
    "evaluation_result = evaluation_result.set_index('Id')\n",
    "evaluation_result.to_csv('./Data/final_result.csv')"
   ]
  }
 ],
 "metadata": {
  "kernelspec": {
   "display_name": "Python 3",
   "language": "python",
   "name": "python3"
  },
  "language_info": {
   "codemirror_mode": {
    "name": "ipython",
    "version": 3
   },
   "file_extension": ".py",
   "mimetype": "text/x-python",
   "name": "python",
   "nbconvert_exporter": "python",
   "pygments_lexer": "ipython3",
   "version": "3.6.3"
  }
 },
 "nbformat": 4,
 "nbformat_minor": 2
}
