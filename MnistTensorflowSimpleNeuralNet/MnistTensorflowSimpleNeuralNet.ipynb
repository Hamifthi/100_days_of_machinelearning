{
 "cells": [
  {
   "cell_type": "code",
   "execution_count": 1,
   "metadata": {},
   "outputs": [],
   "source": [
    "import tensorflow as tf\n",
    "import os.path\n",
    "from tensorflow.examples.tutorials.mnist import input_data"
   ]
  },
  {
   "cell_type": "code",
   "execution_count": 2,
   "metadata": {},
   "outputs": [
    {
     "name": "stdout",
     "output_type": "stream",
     "text": [
      "WARNING:tensorflow:From <ipython-input-2-a50d87dafee9>:2: read_data_sets (from tensorflow.contrib.learn.python.learn.datasets.mnist) is deprecated and will be removed in a future version.\n",
      "Instructions for updating:\n",
      "Please use alternatives such as official/mnist/dataset.py from tensorflow/models.\n",
      "WARNING:tensorflow:From c:\\users\\hamed\\appdata\\local\\programs\\python\\python36\\lib\\site-packages\\tensorflow\\contrib\\learn\\python\\learn\\datasets\\mnist.py:260: maybe_download (from tensorflow.contrib.learn.python.learn.datasets.base) is deprecated and will be removed in a future version.\n",
      "Instructions for updating:\n",
      "Please write your own downloading logic.\n",
      "WARNING:tensorflow:From c:\\users\\hamed\\appdata\\local\\programs\\python\\python36\\lib\\site-packages\\tensorflow\\contrib\\learn\\python\\learn\\datasets\\mnist.py:262: extract_images (from tensorflow.contrib.learn.python.learn.datasets.mnist) is deprecated and will be removed in a future version.\n",
      "Instructions for updating:\n",
      "Please use tf.data to implement this functionality.\n",
      "Extracting ../Mnist_data\\train-images-idx3-ubyte.gz\n",
      "WARNING:tensorflow:From c:\\users\\hamed\\appdata\\local\\programs\\python\\python36\\lib\\site-packages\\tensorflow\\contrib\\learn\\python\\learn\\datasets\\mnist.py:267: extract_labels (from tensorflow.contrib.learn.python.learn.datasets.mnist) is deprecated and will be removed in a future version.\n",
      "Instructions for updating:\n",
      "Please use tf.data to implement this functionality.\n",
      "Extracting ../Mnist_data\\train-labels-idx1-ubyte.gz\n",
      "WARNING:tensorflow:From c:\\users\\hamed\\appdata\\local\\programs\\python\\python36\\lib\\site-packages\\tensorflow\\contrib\\learn\\python\\learn\\datasets\\mnist.py:110: dense_to_one_hot (from tensorflow.contrib.learn.python.learn.datasets.mnist) is deprecated and will be removed in a future version.\n",
      "Instructions for updating:\n",
      "Please use tf.one_hot on tensors.\n",
      "Extracting ../Mnist_data\\t10k-images-idx3-ubyte.gz\n",
      "Extracting ../Mnist_data\\t10k-labels-idx1-ubyte.gz\n",
      "WARNING:tensorflow:From c:\\users\\hamed\\appdata\\local\\programs\\python\\python36\\lib\\site-packages\\tensorflow\\contrib\\learn\\python\\learn\\datasets\\mnist.py:290: DataSet.__init__ (from tensorflow.contrib.learn.python.learn.datasets.mnist) is deprecated and will be removed in a future version.\n",
      "Instructions for updating:\n",
      "Please use alternatives such as official/mnist/dataset.py from tensorflow/models.\n",
      "Extracting ../Mnist_data\\train-images-idx3-ubyte.gz\n",
      "Extracting ../Mnist_data\\train-labels-idx1-ubyte.gz\n",
      "Extracting ../Mnist_data\\t10k-images-idx3-ubyte.gz\n",
      "Extracting ../Mnist_data\\t10k-labels-idx1-ubyte.gz\n"
     ]
    }
   ],
   "source": [
    "if os.path.exists('../Mnist_data'):\n",
    "    mnist = input_data.read_data_sets('../Mnist_data', one_hot = True)\n",
    "mnist = input_data.read_data_sets('../Mnist_data', one_hot = True)"
   ]
  },
  {
   "cell_type": "code",
   "execution_count": 3,
   "metadata": {},
   "outputs": [],
   "source": [
    "number_of_hidden_layer1 = 500\n",
    "number_of_hidden_layer2 = 500\n",
    "number_of_hidden_layer3 = 500\n",
    "number_of_classes = 10\n",
    "batch_size = 100"
   ]
  },
  {
   "cell_type": "code",
   "execution_count": 4,
   "metadata": {},
   "outputs": [],
   "source": [
    "x = tf.placeholder(tf.float32, [None, 784])\n",
    "y = tf.placeholder(tf.float32)"
   ]
  },
  {
   "cell_type": "code",
   "execution_count": 69,
   "metadata": {},
   "outputs": [],
   "source": [
    "def neural_network_model(data):\n",
    "    hidden_layer_1 = {'weights':tf.Variable(tf.random_normal([784, number_of_hidden_layer1])),\n",
    "                      'biases':tf.Variable(tf.random_normal([number_of_hidden_layer1]))}\n",
    "    hidden_layer_2 = {'weights':tf.Variable(tf.random_normal([number_of_hidden_layer1, number_of_hidden_layer2])),\n",
    "                      'biases':tf.Variable(tf.random_normal([number_of_hidden_layer2]))}\n",
    "    hidden_layer_3 = {'weights':tf.Variable(tf.random_normal([number_of_hidden_layer2, number_of_hidden_layer3])),\n",
    "                      'biases':tf.Variable(tf.random_normal([number_of_hidden_layer3]))}\n",
    "    output_layer = {'weights':tf.Variable(tf.random_normal([number_of_hidden_layer3, number_of_classes])),\n",
    "                      'biases':tf.Variable(tf.random_normal([number_of_classes]))}\n",
    "    \n",
    "    layer_1 = tf.add(tf.matmul(data, hidden_layer_1['weights']), hidden_layer_1['biases'])\n",
    "    layer_1 = tf.nn.relu(layer_1)\n",
    "    \n",
    "    layer_2 = tf.add(tf.matmul(layer_1, hidden_layer_2['weights']), hidden_layer_2['biases'])\n",
    "    layer_2 = tf.nn.relu(layer_2)\n",
    "    \n",
    "    layer_3 = tf.add(tf.matmul(layer_2, hidden_layer_3['weights']), hidden_layer_3['biases'])\n",
    "    layer_3 = tf.nn.relu(layer_3)\n",
    "    \n",
    "    output = tf.matmul(layer_3, output_layer['weights']) + output_layer['biases']\n",
    "    \n",
    "    return output"
   ]
  },
  {
   "cell_type": "code",
   "execution_count": 75,
   "metadata": {},
   "outputs": [],
   "source": [
    "def train_neural_net(x):\n",
    "    prediction = neural_network_model(x)\n",
    "    lost = tf.reduce_mean(tf.nn.softmax_cross_entropy_with_logits_v2(logits = prediction, labels = y))\n",
    "    optimizer = tf.train.AdamOptimizer().minimize(lost)\n",
    "    \n",
    "    epochs = 2\n",
    "    with tf.Session() as sess:\n",
    "        sess.run(tf.global_variables_initializer())\n",
    "        \n",
    "        for epoch in range(epochs):\n",
    "            epoch_loss = 0\n",
    "            for _ in range(int(mnist.train.num_examples / batch_size)):\n",
    "                epoch_x, epoch_y = mnist.train.next_batch(batch_size)\n",
    "                _, l = sess.run([optimizer, lost], feed_dict = {x: epoch_x, y: epoch_y})\n",
    "                epoch_loss += l\n",
    "            print('epoch ', epoch, 'with total lost of ', epoch_loss)\n",
    "            \n",
    "        correct = tf.equal(tf.argmax(prediction, 1), tf.argmax(y, 1))\n",
    "        accuracy = tf.reduce_mean(tf.cast(correct, 'float'))\n",
    "        print('Accuracy ', accuracy.eval({x: mnist.test.images, y: mnist.test.labels}))"
   ]
  },
  {
   "cell_type": "code",
   "execution_count": 76,
   "metadata": {},
   "outputs": [
    {
     "name": "stdout",
     "output_type": "stream",
     "text": [
      "epoch  0 with total lost of  1549087.6696624756\n",
      "epoch  1 with total lost of  370177.0162153244\n",
      "epoch  2 with total lost of  197953.7900428772\n",
      "epoch  3 with total lost of  118550.86273264885\n",
      "epoch  4 with total lost of  73509.94903540611\n",
      "epoch  5 with total lost of  45339.433095393586\n",
      "epoch  6 with total lost of  31463.915719727054\n",
      "epoch  7 with total lost of  22394.7048783169\n",
      "epoch  8 with total lost of  17308.92210229062\n",
      "epoch  9 with total lost of  18264.36840456912\n",
      "Accuracy  0.9457\n"
     ]
    }
   ],
   "source": [
    "train_neural_net(x)"
   ]
  }
 ],
 "metadata": {
  "kernelspec": {
   "display_name": "Python 3",
   "language": "python",
   "name": "python3"
  },
  "language_info": {
   "codemirror_mode": {
    "name": "ipython",
    "version": 3
   },
   "file_extension": ".py",
   "mimetype": "text/x-python",
   "name": "python",
   "nbconvert_exporter": "python",
   "pygments_lexer": "ipython3",
   "version": "3.6.3"
  }
 },
 "nbformat": 4,
 "nbformat_minor": 2
}
