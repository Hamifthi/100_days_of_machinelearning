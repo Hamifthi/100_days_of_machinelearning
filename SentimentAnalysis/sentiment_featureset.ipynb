{
 "cells": [
  {
   "cell_type": "code",
   "execution_count": 44,
   "metadata": {},
   "outputs": [],
   "source": [
    "import nltk\n",
    "from nltk.tokenize import word_tokenize\n",
    "from nltk.stem import WordNetLemmatizer\n",
    "import numpy as np\n",
    "import pickle\n",
    "import random\n",
    "from collections import Counter"
   ]
  },
  {
   "cell_type": "code",
   "execution_count": 45,
   "metadata": {},
   "outputs": [],
   "source": [
    "lemmetizer = WordNetLemmatizer()\n",
    "number_of_lines = 5332"
   ]
  },
  {
   "cell_type": "code",
   "execution_count": 46,
   "metadata": {},
   "outputs": [],
   "source": [
    "# function for creating a bag of wnated words \n",
    "def create_lexicon(pos, neg):\n",
    "    lexicon = []\n",
    "    for file in [pos, neg]:\n",
    "        with open (file, 'r') as f:\n",
    "            contents = f.readlines()\n",
    "            for line in contents[:number_of_lines]:\n",
    "                all_words = word_tokenize(line.lower())\n",
    "                lexicon += list(all_words)\n",
    "    \n",
    "    lexicon = [lemmetizer.lemmatize(word) for word in lexicon]\n",
    "    word_counts = Counter(lexicon)\n",
    "    l2 = []\n",
    "    \n",
    "    for word in word_counts:\n",
    "        if 1000 > word_counts[word] > 50:\n",
    "            l2.append(word)\n",
    "    \n",
    "    print(len(l2))\n",
    "    return l2"
   ]
  },
  {
   "cell_type": "code",
   "execution_count": 47,
   "metadata": {},
   "outputs": [],
   "source": [
    "# function for counting sentences words that are present in the bag of words\n",
    "def sample_handeling(sample, lexicon, classification):\n",
    "    featureset = []\n",
    "    \n",
    "    with open(sample, 'r') as f:\n",
    "        contents = f.readlines()\n",
    "        for line in contents[:number_of_lines]:\n",
    "            current_words = word_tokenize(line.lower())\n",
    "            current_words = [lemmetizer.lemmatize(word) for word in current_words]\n",
    "            features = np.zeros(len(lexicon))\n",
    "            for word in current_words:\n",
    "                if word.lower() in lexicon:\n",
    "                    index_value = lexicon.index(word.lower())\n",
    "                    features[index_value] += 1\n",
    "                    \n",
    "            features = list(features)\n",
    "            featureset.append([features, classification])\n",
    "            \n",
    "    return featureset"
   ]
  },
  {
   "cell_type": "code",
   "execution_count": 55,
   "metadata": {},
   "outputs": [],
   "source": [
    "# function for creating training and test data\n",
    "def create_feature_sets_and_labels(pos, neg, test_size = 0.1):\n",
    "    lexicon = create_lexicon(pos, neg)\n",
    "    features = []\n",
    "    features += sample_handeling(pos, lexicon, [1, 0])\n",
    "    features += sample_handeling(neg, lexicon, [0, 1])\n",
    "    random.shuffle(features)\n",
    "    \n",
    "    features = np.array(features)\n",
    "    \n",
    "    testing_size = int(len(features) * test_size)\n",
    "    \n",
    "    x_train = list(features[:-testing_size, 0])\n",
    "    y_train = list(features[:-testing_size, 1])\n",
    "    \n",
    "    x_test = list(features[testing_size:, 0])\n",
    "    y_test = list(features[testing_size:, 1])\n",
    "    \n",
    "    return x_train, y_train, x_test, y_test"
   ]
  },
  {
   "cell_type": "code",
   "execution_count": null,
   "metadata": {},
   "outputs": [],
   "source": [
    "if __name__ == '__main()__':\n",
    "    x_train, y_train, x_test, y_test = create_feature_sets_and_labels('pos.txt', 'neg.txt', test_size = 0.1)\n",
    "    with open('sentiment.pickle', 'wb') as file:\n",
    "        pickle.dump([x_train, y_train, x_test, y_test], f)"
   ]
  }
 ],
 "metadata": {
  "kernelspec": {
   "display_name": "Python 3",
   "language": "python",
   "name": "python3"
  },
  "language_info": {
   "codemirror_mode": {
    "name": "ipython",
    "version": 3
   },
   "file_extension": ".py",
   "mimetype": "text/x-python",
   "name": "python",
   "nbconvert_exporter": "python",
   "pygments_lexer": "ipython3",
   "version": "3.6.3"
  }
 },
 "nbformat": 4,
 "nbformat_minor": 2
}
